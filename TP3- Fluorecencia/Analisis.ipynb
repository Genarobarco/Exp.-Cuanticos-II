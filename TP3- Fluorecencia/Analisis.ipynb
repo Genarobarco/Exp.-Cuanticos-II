{
 "cells": [
  {
   "cell_type": "markdown",
   "metadata": {},
   "source": [
    "# Librerias"
   ]
  },
  {
   "cell_type": "code",
   "execution_count": 1,
   "metadata": {},
   "outputs": [],
   "source": [
    "import os\n",
    "import re\n",
    "import matplotlib.pyplot as plt\n",
    "import numpy as np\n",
    "import pandas as pd\n",
    "import math as math\n",
    "\n",
    "from glob import glob\n",
    "from collections import OrderedDict\n",
    "from scipy.optimize import least_squares\n",
    "from scipy.optimize import curve_fit\n",
    "from lmfit.models import ConstantModel, LorentzianModel\n",
    "import matplotlib.ticker as mtick\n",
    "from matplotlib.ticker import PercentFormatter"
   ]
  },
  {
   "cell_type": "markdown",
   "metadata": {},
   "source": [
    "# Funciones"
   ]
  },
  {
   "cell_type": "code",
   "execution_count": 59,
   "metadata": {},
   "outputs": [],
   "source": [
    "def gauss(X,X_mean,sigma,C):\n",
    "  return C*np.exp(-(X-X_mean)**2/(2*sigma**2))\n",
    "\n",
    "def ploteo_gauss(dt_x, dt_y, y_error, mu_ploteo, sigma_ploteo, C_ploteo, color_ploteo, label_ploteo, x_label, y_label, rtrn=False):\n",
    "\n",
    "  pop_ploteo, cov_ploteo= curve_fit(f=gauss, xdata= dt_x, ydata= dt_y, p0=[mu_ploteo,sigma_ploteo,C_ploteo], sigma=y_error, maxfev=1000000)\n",
    "\n",
    "  mu=round(pop_ploteo[0],0)\n",
    "  sigma=pop_ploteo[1]\n",
    "  C=pop_ploteo[2]\n",
    "\n",
    "  fig,ax = plt.subplots()\n",
    "  plt.errorbar(dt_x,dt_y, yerr=y_error, fmt=\".:\" , color=color_ploteo , label=label_ploteo)\n",
    "  plt.plot(dt_x,gauss(dt_x, mu, sigma, C),color='gold')\n",
    "  plt.vlines(mu, ymin=0, ymax= max(dt_y), color= \"red\" )\n",
    "  plt.xlabel(x_label)\n",
    "  plt.ylabel(y_label)\n",
    "  plt.legend()\n",
    "  plt.show()\n",
    "\n",
    "  print('El maximo es en el canal: ', round(mu,0), 'y el sigma es: ', sigma, 'La constante C es: ', C)\n",
    "  print('Las incertezas son: ', np.sqrt(np.diag(cov_ploteo)))\n",
    "\n",
    "\n",
    "  if rtrn==False:\n",
    "    return\n",
    "\n",
    "  elif rtrn==True:\n",
    "    return mu, sigma, C, np.sqrt(np.diag(cov_ploteo))\n",
    "\n",
    "\n",
    "def Doble_gauss(X, X_mean1, sigma1, C1, X_mean2, sigma2, C2):\n",
    "    return C1*np.exp(-(X-X_mean1)**2/(2*sigma1**2)) + C2*np.exp(-(X-X_mean2)**2/(2*sigma2**2))\n",
    "\n",
    "def ploteo_Doble_gauss(dt_x, dt_y, y_error, mu_ploteo1, sigma_ploteo1, C_ploteo1, mu_ploteo2, sigma_ploteo2, C_ploteo2, color_ploteo, label_ploteo, x_label, y_label, rtrn=False):\n",
    "\n",
    "  pop_ploteo, cov_ploteo= curve_fit(f=Doble_gauss, xdata= dt_x, ydata= dt_y, sigma=y_error, p0=[mu_ploteo1, sigma_ploteo1, C_ploteo1, mu_ploteo2, sigma_ploteo2, C_ploteo2], maxfev=1000000)\n",
    "\n",
    "  mu1=pop_ploteo[0]\n",
    "  sigma1=pop_ploteo[1]\n",
    "  C1=pop_ploteo[2]\n",
    "\n",
    "  mu2=pop_ploteo[3]\n",
    "  sigma2=pop_ploteo[4]\n",
    "  C2=pop_ploteo[5]\n",
    "\n",
    "  fig,ax = plt.subplots()\n",
    "  plt.errorbar(dt_x,dt_y, yerr=y_error, fmt=\".:\" , color=color_ploteo , label=label_ploteo)\n",
    "  plt.plot(dt_x,Doble_gauss(dt_x, mu1, sigma1, C1, mu2, sigma2, C2),color='gold')\n",
    "  plt.vlines(mu1, ymin=0, ymax= max(dt_y), color= \"red\" )\n",
    "  plt.vlines(mu2, ymin=0, ymax= max(dt_y), color= \"red\" )\n",
    "  plt.xlabel(x_label)\n",
    "  plt.ylabel(y_label)\n",
    "  plt.legend()\n",
    "  plt.show()\n",
    "\n",
    "  print('El maximo 1 esta en: ', mu1, 'y el sigma es: ', sigma1, 'La constante C es: ', C1)\n",
    "  print('El maximo 2 esta en: ', mu2, 'y el sigma es: ', sigma2, 'La constante C es: ', C2)\n",
    "  print('Las incertezas son: ', np.sqrt(np.diag(cov_ploteo)))\n",
    "\n",
    "  return"
   ]
  },
  {
   "cell_type": "markdown",
   "metadata": {},
   "source": [
    "# Datos"
   ]
  },
  {
   "cell_type": "code",
   "execution_count": 17,
   "metadata": {},
   "outputs": [],
   "source": [
    "Rutas=glob('D:\\Genaro\\Experimentos Cuanticos II\\Exp.-Cuanticos-II\\TP3- Fluorecencia\\Datos\\*.mca')\n",
    "\n",
    "Datos={}\n",
    "\n",
    "for ruta in Rutas:\n",
    "\n",
    "    archivo_completo= os.path.basename(ruta)\n",
    "    nombre_archivo= os.path.splitext(archivo_completo)[0]\n",
    "\n",
    "    array=pd.read_csv(ruta, encoding='latin1', header=19, names=['data'], nrows=2048)\n",
    "    array_norm=array['data']/max(array['data'])\n",
    "\n",
    "    Colum_Errores= np.sqrt(array['data'])\n",
    "    err_norm=Colum_Errores/max(array['data'])\n",
    "    \n",
    "    Datos[nombre_archivo]=[array['data'], Colum_Errores, array_norm, err_norm]\n",
    "\n",
    "Co_dat=Datos['Co']\n",
    "Cu_dat=Datos['Cu']\n",
    "Mn_dat=Datos['Mn']\n",
    "Ni_dat=Datos['Ni']\n",
    "Incog1=Datos['incognita.grupo1']\n",
    "Incog2=Datos['Incognita 2']\n",
    "\n",
    "indice=Datos.keys()\n",
    "\n",
    "canales=np.arange(1,2049,1)"
   ]
  },
  {
   "cell_type": "markdown",
   "metadata": {},
   "source": [
    "# Calibración"
   ]
  },
  {
   "cell_type": "markdown",
   "metadata": {},
   "source": [
    "## Espectros"
   ]
  },
  {
   "cell_type": "code",
   "execution_count": 4,
   "metadata": {},
   "outputs": [],
   "source": [
    "# plt.errorbar(canales, Ni_dat[2], yerr=Ni_dat[3], fmt='o', color='orange')\n",
    "# plt.xlim(750,950)\n",
    "\n",
    "# ploteo_gauss(canales[775:845],Ni_dat[2][775:845],Ni_dat[3][775:845], 810, 10, 1, 'red', 'ajuste simple', 'canales', 'Nientas')\n",
    "# ploteo_gauss(canales[870:920],Ni_dat[2][870:920],Ni_dat[3][870:920], 890, 10, 1, 'red', 'ajuste simple', 'canales', 'Nientas')\n",
    "\n",
    "Ni_Mus=[807, 892]\n",
    "Ni_Klines=[7478.15, 8264.66]\n",
    "Ni_Mus_err=[0.04316397, 0.14705299]"
   ]
  },
  {
   "cell_type": "code",
   "execution_count": 5,
   "metadata": {},
   "outputs": [],
   "source": [
    "# plt.errorbar(canales, Mn_dat[2], yerr=Mn_dat[3], fmt='o', color='orange')\n",
    "# plt.xlim(600,725)\n",
    "\n",
    "# ploteo_gauss(canales[620:660],Mn_dat[2][620:660],Mn_dat[3][620:660], 640, 10, 1, 'red', 'ajuste simple', 'canales', 'Mnentas')\n",
    "# ploteo_gauss(canales[680:740],Mn_dat[2][680:740],Mn_dat[3][680:740], 720, 10, 1, 'red', 'ajuste simple', 'canales', 'Mnentas')\n",
    "\n",
    "Mn_Mus=[638, 701]\n",
    "Mn_Klines=[5898.75, 6490.45]\n",
    "Mn_Mus_err=[0.04316397, 0.14705299]"
   ]
  },
  {
   "cell_type": "code",
   "execution_count": 6,
   "metadata": {},
   "outputs": [],
   "source": [
    "# plt.errorbar(canales, Cu_dat[2], yerr=Cu_dat[3], fmt='o', color='orange')\n",
    "# plt.xlim(800,1000)\n",
    "\n",
    "# ploteo_gauss(canales[850:900],Cu_dat[2][850:900],Cu_dat[3][850:900], 865, 10, 1, 'red', 'ajuste simple', 'canales', 'cuentas')\n",
    "# ploteo_gauss(canales[920:1000],Cu_dat[2][920:1000],Cu_dat[3][920:1000], 965, 10, 1, 'red', 'ajuste simple', 'canales', 'cuentas')\n",
    "\n",
    "Cu_Mus=[869, 961]\n",
    "Cu_Klines=[8047.78, 8905.29]\n",
    "Cu_Mus_err=[0.04316397, 0.14705299]"
   ]
  },
  {
   "cell_type": "code",
   "execution_count": 7,
   "metadata": {},
   "outputs": [],
   "source": [
    "# plt.errorbar(canales, Co_dat[2], yerr=Co_dat[3], fmt='o', color='orange')\n",
    "# plt.xlim(700,900)\n",
    "\n",
    "# ploteo_gauss(canales[725:775],Co_dat[2][725:775],Co_dat[3][725:775], 750, 10, 1, 'red', 'ajuste simple', 'canales', 'cuentas')\n",
    "# ploteo_gauss(canales[800:850],Co_dat[2][800:850],Co_dat[3][800:850], 825, 10, 1, 'red', 'ajuste simple', 'canales', 'cuentas')\n",
    "\n",
    "Co_Mus=[749, 826]\n",
    "Co_Klines=[6930.32, 7649.43]\n",
    "Co_Mus_err=[0.04131984, 0.13320902]"
   ]
  },
  {
   "cell_type": "markdown",
   "metadata": {},
   "source": [
    "## Ajuste"
   ]
  },
  {
   "cell_type": "code",
   "execution_count": 8,
   "metadata": {},
   "outputs": [],
   "source": [
    "list_mus=np.array([749, 826, 869, 961, 638, 701, 807, 892])\n",
    "list_lines=np.array([6930.32, 7649.43, 8047.78, 8905.29, 5898.75, 6490.45,7478.15, 8264.66])\n",
    "list_names=[r'Co K_\\alpha', r'Co K_\\beta', r'Cu K_\\alpha', r'Cu K_\\beta', r'Mn K_\\alpha', r'Mn K_\\beta', r'Ni K_\\alpha', r'Ni K_\\beta']\n",
    "list_color=['orange', 'orange', 'green', 'green', 'red', 'red', 'blue', 'blue']"
   ]
  },
  {
   "cell_type": "code",
   "execution_count": 10,
   "metadata": {},
   "outputs": [
    {
     "name": "stdout",
     "output_type": "stream",
     "text": [
      "9.303499880482857 -34.702466237209244\n"
     ]
    },
    {
     "data": {
      "image/png": "[encoded data removed]",
      "text/plain": [
       "<Figure size 640x480 with 1 Axes>"
      ]
     },
     "metadata": {},
     "output_type": "display_data"
    }
   ],
   "source": [
    "def lineal(x, p, b):\n",
    "    y=x*p+b\n",
    "    return y\n",
    "\n",
    "pop_cal, cov_cal= curve_fit(lineal, list_mus, list_lines)\n",
    "\n",
    "plt.plot(list_mus, lineal(list_mus, *pop_cal), color='purple')\n",
    "\n",
    "for i in range(0,8):\n",
    "    plt.scatter(list_mus[i], list_lines[i], color=list_color[i])\n",
    "\n",
    "print(*pop_cal)\n",
    "\n",
    "energias=pop_cal[0]* canales+pop_cal[1]"
   ]
  },
  {
   "cell_type": "markdown",
   "metadata": {},
   "source": [
    "# Análisis"
   ]
  },
  {
   "cell_type": "markdown",
   "metadata": {},
   "source": [
    "# Incognita 2"
   ]
  },
  {
   "cell_type": "markdown",
   "metadata": {},
   "source": [
    "## Incognita 1"
   ]
  },
  {
   "cell_type": "code",
   "execution_count": 69,
   "metadata": {},
   "outputs": [
    {
     "name": "stdout",
     "output_type": "stream",
     "text": [
      "proporciones picos 1 y 3: 83.06515131194688 16.934848688053115\n"
     ]
    },
    {
     "data": {
      "text/plain": [
       "(6700.0, 8500.0)"
      ]
     },
     "execution_count": 69,
     "metadata": {},
     "output_type": "execute_result"
    },
    {
     "data": {
      "image/png": "[encoded data removed]",
      "text/plain": [
       "<Figure size 640x480 with 1 Axes>"
      ]
     },
     "metadata": {},
     "output_type": "display_data"
    }
   ],
   "source": [
    "pop_I1_p1, cov_I1_p1= curve_fit(gauss, energias[720:770], Incog1[2][720:770], sigma=Incog2[3][720:770], p0=[6900,10,1])\n",
    "pop_I1_p2, cov_I1_p2= curve_fit(gauss, energias[780:820], Incog1[2][780:820], sigma=Incog2[3][780:820], p0=[7500,10,1])\n",
    "pop_I1_p3, cov_I1_p3= curve_fit(gauss, energias[875:910], Incog1[2][875:910], sigma=Incog2[3][875:910], p0=[8290,20,1])\n",
    "\n",
    "int_I1_p1=pop_I1_p1[2]*pop_I1_p1[1]*np.sqrt(2*np.pi)\n",
    "int_I1_p3=pop_I1_p3[2]*pop_I1_p3[1]*np.sqrt(2*np.pi)\n",
    "\n",
    "prop_I1_p1=100*(int_I1_p1/(int_I1_p1+int_I1_p3))\n",
    "prop_I1_p3=100*(int_I1_p3/(int_I1_p1+int_I1_p3))\n",
    "\n",
    "print('proporciones picos 1 y 3:', prop_I1_p1, prop_I1_p3)\n",
    "\n",
    "plt.errorbar(energias, Incog1[2], fmt='.:', color='orange')\n",
    "plt.plot(energias, gauss(energias, *pop_I1_p1), color='red')\n",
    "plt.plot(energias, gauss(energias, *pop_I1_p2), color='magenta')\n",
    "plt.plot(energias, gauss(energias, *pop_I1_p3), color='blue')\n",
    "plt.xlim(6700,8500)"
   ]
  },
  {
   "cell_type": "markdown",
   "metadata": {},
   "source": [
    "Tenemos que el primer pico de 6931 keV corresponde al pico K $_\\alpha$ del Co, el pico de 8267 keV corresponde con el pico K $_\\beta$ del Ni. Luego, el pico suma es entonces la superposición del pico K $_\\beta$ del Co y el pico K $_\\alpha$ del Ni."
   ]
  }
 ],
 "metadata": {
  "kernelspec": {
   "display_name": "Python 3",
   "language": "python",
   "name": "python3"
  },
  "language_info": {
   "codemirror_mode": {
    "name": "ipython",
    "version": 3
   },
   "file_extension": ".py",
   "mimetype": "text/x-python",
   "name": "python",
   "nbconvert_exporter": "python",
   "pygments_lexer": "ipython3",
   "version": "3.10.0"
  }
 },
 "nbformat": 4,
 "nbformat_minor": 2
}
