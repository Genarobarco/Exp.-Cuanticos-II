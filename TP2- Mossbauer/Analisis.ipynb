{
 "cells": [
  {
   "cell_type": "markdown",
   "metadata": {},
   "source": [
    "# Librerias"
   ]
  },
  {
   "cell_type": "code",
   "execution_count": null,
   "metadata": {},
   "outputs": [],
   "source": [
    "import os\n",
    "import re\n",
    "import matplotlib.pyplot as plt\n",
    "import numpy as np\n",
    "import pandas as pd\n",
    "import math as math\n",
    "\n",
    "from glob import glob\n",
    "from collections import OrderedDict\n",
    "from scipy.optimize import least_squares\n",
    "from scipy.optimize import curve_fit\n",
    "from lmfit.models import ConstantModel, LorentzianModel"
   ]
  },
  {
   "cell_type": "markdown",
   "metadata": {},
   "source": [
    "# Funciones"
   ]
  },
  {
   "cell_type": "code",
   "execution_count": null,
   "metadata": {},
   "outputs": [],
   "source": [
    "def Fe_2(x, gA_1, gA_2, gA_3, cA_1, cA_2, cA_3, x0_1,x0_2,x0_3,x0_4,x0_5,x0_6):\n",
    "\n",
    "    # List_centers=[0,285.280184,311.368597,381.695530,401.393523,478.209392,491.512110,550.915996,559.503618,648.675212,741.290168]\n",
    "    # x0_1=List_centers[2]\n",
    "    # x0_2=List_centers[4]\n",
    "    # x0_3=List_centers[6]\n",
    "    # x0_4=List_centers[8]\n",
    "    # x0_5=List_centers[9]\n",
    "    # x0_6=List_centers[10]\n",
    "\n",
    "    LA_1=(-cA_1/(np.pi*gA_1))/(1+((x-x0_1)/gA_1)**2)\n",
    "    LA_2=(-cA_2/(np.pi*gA_2))/(1+((x-x0_2)/gA_2)**2)\n",
    "    LA_3=(-cA_3/(np.pi*gA_3))/(1+((x-x0_3)/gA_3)**2)\n",
    "    LA_4=(-cA_3/(np.pi*gA_3))/(1+((x-x0_4)/gA_3)**2)\n",
    "    LA_5=(-cA_2/(np.pi*gA_2))/(1+((x-x0_5)/gA_2)**2)\n",
    "    LA_6=(-cA_1/(np.pi*gA_1))/(1+((x-x0_6)/gA_1)**2)\n",
    "    \n",
    "    sL= LA_1+LA_2+LA_3+LA_4+LA_5+LA_6+1\n",
    "    \n",
    "    return sL\n",
    "\n",
    "def Fe_3(x, gB_1, gB_2, gB_3, cB_1, cB_2, cB_3, x0_1,x0_2,x0_3,x0_4,x0_5,x0_6):\n",
    "\n",
    "    # List_centers=[0,285.280184,311.368597,381.695530,401.393523,478.209392,491.512110,550.915996,559.503618,648.675212,741.290168]\n",
    "    # x0_1=List_centers[1]\n",
    "    # x0_2=List_centers[3]\n",
    "    # x0_3=List_centers[5]\n",
    "    # x0_4=List_centers[7]\n",
    "    # x0_5=List_centers[9]\n",
    "    # x0_6=List_centers[10]\n",
    "\n",
    "    LB_1=-(cB_1/(np.pi*gB_1))/(1+((x-x0_1)/gB_1)**2)\n",
    "    LB_2=-(cB_2/(np.pi*gB_2))/(1+((x-x0_2)/gB_2)**2)\n",
    "    LB_3=-(cB_3/(np.pi*gB_3))/(1+((x-x0_3)/gB_3)**2)\n",
    "    LB_4=-(cB_3/(np.pi*gB_3))/(1+((x-x0_4)/gB_3)**2)\n",
    "    LB_5=-(cB_2/(np.pi*gB_2))/(1+((x-x0_5)/gB_2)**2)\n",
    "    LB_6=-(cB_1/(np.pi*gB_1))/(1+((x-x0_6)/gB_1)**2)\n",
    "    \n",
    "    sL= LB_1+LB_2+LB_3+LB_4+LB_5+LB_6+1\n",
    "    \n",
    "    return sL\n",
    "\n",
    "def suma_Lorenzianas(x, gA_1, gA_2, gA_3, gB_1, gB_2, gB_3, cA_1, cA_2, cA_3, cB_1, cB_2, cB_3, x0_1_A,x0_1_B,x0_2_A,x0_2_B,x0_3_A,x0_3_B,x0_4_A,x0_4_B,x0_5_A,x0_5_B,x0_6_A,x0_6_B):\n",
    "    \n",
    "    # List_centers=[0,285.280184,311.368597,381.695530,401.393523,478.209392,491.512110,550.915996,559.503618,648.675212,648.675212,741.290168,741.290168]\n",
    "    \n",
    "    # x0_1_A=List_centers[1]\n",
    "    # x0_1_B=List_centers[2]\n",
    "\n",
    "    # x0_2_A=List_centers[3]\n",
    "    # x0_2_B=List_centers[4]\n",
    "\n",
    "    # x0_3_A=List_centers[5]\n",
    "    # x0_3_B=List_centers[6]\n",
    "\n",
    "    # x0_4_A=List_centers[7]\n",
    "    # x0_4_B=List_centers[8]\n",
    "\n",
    "    # x0_5=List_centers[9]\n",
    "    # x0_6=List_centers[10]\n",
    "\n",
    "    LA_1=-(cA_1/(np.pi*gA_1))/(1+((x-x0_1_A)/gA_1)**2)\n",
    "    LA_2=-(cA_2/(np.pi*gA_2))/(1+((x-x0_2_A)/gA_2)**2)\n",
    "    LA_3=-(cA_3/(np.pi*gA_3))/(1+((x-x0_3_A)/gA_3)**2)\n",
    "    LA_4=-(cA_3/(np.pi*gA_3))/(1+((x-x0_4_A)/gA_3)**2)\n",
    "\n",
    "    LB_1=-(cB_1/(np.pi*gB_1))/(1+((x-x0_1_B)/gB_1)**2)\n",
    "    LB_2=-(cB_2/(np.pi*gB_2))/(1+((x-x0_2_B)/gB_2)**2)\n",
    "    LB_3=-(cB_3/(np.pi*gB_3))/(1+((x-x0_3_B)/gB_3)**2)\n",
    "    LB_4=-(cB_3/(np.pi*gB_3))/(1+((x-x0_4_B)/gB_3)**2)\n",
    "\n",
    "    LA_5=-(cA_2/(np.pi*gA_2))/(1+((x-x0_5_A)/gA_2)**2)\n",
    "    LA_6=-(cA_1/(np.pi*gA_1))/(1+((x-x0_6_A)/gA_1)**2)\n",
    "    \n",
    "    LB_5=-(cB_2/(np.pi*gB_2))/(1+((x-x0_5_B)/gB_2)**2)\n",
    "    LB_6=-(cB_1/(np.pi*gB_1))/(1+((x-x0_6_B)/gB_1)**2)\n",
    "\n",
    "    sL=LA_1+LA_2+LA_3+LA_4+LA_5+LA_6+LB_1+LB_2+LB_3+LB_4+LB_5+LB_6+1\n",
    "\n",
    "    return sL"
   ]
  },
  {
   "cell_type": "markdown",
   "metadata": {},
   "source": [
    "# Datos"
   ]
  },
  {
   "cell_type": "code",
   "execution_count": null,
   "metadata": {},
   "outputs": [],
   "source": [
    "Rutas=glob('D:\\Genaro\\Experimentos Cuanticos II\\Exp.-Cuanticos-II\\TP2- Mossbauer\\Datos - TP2\\*.counts')\n",
    "\n",
    "Fe=pd.read_csv(Rutas[0], header=None, names=['cuentas'])\n",
    "Mag=pd.read_csv(Rutas[1], header=None, names=['cuentas'])\n",
    "Ox=pd.read_csv('D:\\Genaro\\Experimentos Cuanticos II\\Exp.-Cuanticos-II\\TP2- Mossbauer\\Datos - TP2\\FeOx_desconocido.aa006.dat',sep='\\s+', header=None, names=['Vel', 'Cuentas'])\n",
    "\n",
    "canales=np.arange(0,2048,1)\n",
    "\n",
    "Esp_Fe=Fe['cuentas']\n",
    "Esp_Fe_err=np.sqrt(Esp_Fe)\n",
    "\n",
    "Esp_Mag=Mag['cuentas']\n",
    "Esp_Mag_err=np.sqrt(Esp_Mag)\n",
    "\n",
    "Ox_vel=Ox['Vel']\n",
    "Ox_Cuentas=Ox['Cuentas']\n",
    "Ox_Cuentas_err=np.sqrt(Ox_Cuentas)"
   ]
  },
  {
   "cell_type": "code",
   "execution_count": null,
   "metadata": {},
   "outputs": [],
   "source": [
    "List_dif=[]\n",
    "\n",
    "for j in range(0,100):\n",
    "\n",
    "    R=(np.array(Esp_Fe[j:1024])-np.flip(np.array(Esp_Fe[1024+j:2048])))**2\n",
    "\n",
    "    List_dif.append(sum(R))\n",
    "\n",
    "print(np.nonzero(List_dif==min(List_dif)))\n",
    "\n",
    "FP=4\n",
    "\n",
    "Esp_P_Fe=(np.flip(np.array(Esp_Fe[FP:1024]))+np.array(Esp_Fe[1024+FP:2048]))/2\n",
    "Esp_P_Mag=(np.flip(np.array(Esp_Mag[FP:1024]))+np.array(Esp_Mag[1024+FP:2048]))/2\n",
    "\n",
    "\n",
    "Esp_P_Mag_norm=Esp_P_Mag/max(Esp_P_Mag)\n",
    "Esp_P_Fe_norm=Esp_P_Fe/max(Esp_P_Fe)\n",
    "\n",
    "Canales_P=np.arange(0, len(Esp_P_Fe), 1)"
   ]
  },
  {
   "cell_type": "markdown",
   "metadata": {},
   "source": [
    "# Analisis"
   ]
  },
  {
   "cell_type": "markdown",
   "metadata": {},
   "source": [
    "## Calibracion"
   ]
  },
  {
   "cell_type": "markdown",
   "metadata": {},
   "source": [
    "### Espectro Fe"
   ]
  },
  {
   "cell_type": "code",
   "execution_count": null,
   "metadata": {},
   "outputs": [],
   "source": [
    "velo = Canales_P # Energy or frequency axis\n",
    "signal = Esp_P_Fe_norm # Intensity or counts\n",
    "\n",
    "# Define the model: constant background + Lorentzian peaks\n",
    "model = ConstantModel() + LorentzianModel(prefix='p1_') + LorentzianModel(prefix='p2_') + LorentzianModel(prefix='p3_') + LorentzianModel(prefix='p4_') + LorentzianModel(prefix='p5_') + LorentzianModel(prefix='p6_')\n",
    "\n",
    "# Set initial parameters for the model\n",
    "params = model.make_params(c=25000, # Background constant\n",
    "                           p1_center=355, p1_sigma=10, p1_amplitude=-10000, # Peak 1\n",
    "                           p2_center=420, p2_sigma=10, p2_amplitude=-10000, # Peak 2\n",
    "                           p3_center=500, p3_sigma=10, p3_amplitude=-10000, # Peak 1\n",
    "                           p4_center=530, p4_sigma=10, p4_amplitude=-10000, # Peak 2\n",
    "                           p5_center=600, p5_sigma=10, p5_amplitude=-10000, # Peak 1\n",
    "                           p6_center=670, p6_sigma=10, p6_amplitude=-10000) # Peak 2\n",
    "\n",
    "# Fit the model to the data\n",
    "out = model.fit(signal, params, x=velo)\n",
    "\n",
    "# Print the fit report\n",
    "print(out.fit_report())\n",
    "\n",
    "# Plot the data and the best fit\n",
    "plt.plot(velo, signal, 'o', label='data', color='Purple')\n",
    "plt.plot(velo, out.best_fit, label='fit', color='gold')\n",
    "plt.title('Espectograma Mossbauer - Fe')\n",
    "plt.xlabel('Canales')\n",
    "plt.ylabel('Cuentas')\n",
    "plt.legend()\n",
    "\n",
    "plt.savefig('Mossbauer-Fe.jpg', format='jpg', dpi=1000, bbox_inches='tight')\n",
    "\n",
    "plt.close()"
   ]
  },
  {
   "cell_type": "code",
   "execution_count": null,
   "metadata": {},
   "outputs": [],
   "source": [
    "Canales_Fe=np.array([352.397351,417.080822,481.788128,530.632075,595.492759,660.394938])\n",
    "Canales_Fe_err=np.array([0.02985221,0.03404794,0.05354427,0.05210059,0.03359756,0.02977188])\n",
    "\n",
    "vel_Fe=[-5.328,-3.084,-0.840,0.840,3.084,5.328]\n",
    "\n",
    "def lineal(x, p, b):\n",
    "    \n",
    "    y=x*p+b\n",
    "\n",
    "    return y\n",
    "\n",
    "pop_cal, cov_cal= curve_fit(lineal, Canales_Fe, vel_Fe)\n",
    "\n",
    "err_cal= np.sqrt(np.diag(cov_cal))\n",
    "\n",
    "plt.errorbar(Canales_Fe, vel_Fe, xerr=Canales_Fe_err, color='firebrick', fmt='o')\n",
    "plt.plot(Canales_Fe, lineal(Canales_Fe, *pop_cal), color='navy')\n",
    "\n",
    "Vel_cal=lineal(Canales_P, *pop_cal)"
   ]
  },
  {
   "cell_type": "markdown",
   "metadata": {},
   "source": [
    "## Espectro Ox"
   ]
  },
  {
   "cell_type": "code",
   "execution_count": null,
   "metadata": {},
   "outputs": [],
   "source": [
    "Ox_Cuentas_norm=Ox_Cuentas/max(Ox_Cuentas)\n",
    "\n",
    "velo = Ox_vel # Energy or frequency axis\n",
    "signal = Ox_Cuentas_norm # Intensity or counts\n",
    "\n",
    "# Define the model: constant background + Lorentzian peaks\n",
    "model = ConstantModel() + LorentzianModel(prefix='p1_') + LorentzianModel(prefix='p2_') + LorentzianModel(prefix='p3_') + LorentzianModel(prefix='p4_') + LorentzianModel(prefix='p5_') + LorentzianModel(prefix='p6_')\n",
    "\n",
    "# Set initial parameters for the model\n",
    "params = model.make_params(c=25000, # Background constant\n",
    "                           p1_center=-7, p1_sigma=2, p1_amplitude=-3e6, # Peak 1\n",
    "                           p2_center=-4, p2_sigma=2, p2_amplitude=-3e6, # Peak 2\n",
    "                           p3_center=-1, p3_sigma=2, p3_amplitude=-3e6, # Peak 1\n",
    "                           p4_center=2, p4_sigma=2, p4_amplitude=-3e6, # Peak 2\n",
    "                           p5_center=5, p5_sigma=2, p5_amplitude=-3e6, # Peak 1\n",
    "                           p6_center=9, p6_sigma=2, p6_amplitude=-3e6) # Peak 2\n",
    "\n",
    "# Fit the model to the data\n",
    "out = model.fit(signal, params, x=velo)\n",
    "\n",
    "# Print the fit report\n",
    "print(out.fit_report())\n",
    "\n",
    "# Plot the data and the best fit\n",
    "plt.plot(velo, signal, 'o', label='data', color='orange')\n",
    "plt.plot(velo, out.best_fit, label='fit', color='deepskyblue')\n",
    "plt.title('Espectograma Mossbauer - Oxido Fe')\n",
    "plt.xlabel('velocidades [mm/s]')\n",
    "plt.ylabel('Cuentas')\n",
    "plt.legend()\n",
    "\n",
    "plt.savefig('Mossbauer-Ox.jpg', format='jpg', dpi=1000, bbox_inches='tight')\n",
    "\n",
    "plt.close()"
   ]
  },
  {
   "cell_type": "markdown",
   "metadata": {},
   "source": [
    "$B=v6-v1 \\\\\n",
    "\\delta= \\frac{v1+v2+v5+v6}{4}\\\\\n",
    "\\epsilon=\\frac{v1+v6-v2-v5}{4}\\\\\n",
    "a=\\frac{v4-v3}{2B}\\\\\n",
    "b=\\frac{v5-v2}{2B}\\\\\n",
    "\\Delta=2*\\epsilon$\n"
   ]
  },
  {
   "cell_type": "code",
   "execution_count": null,
   "metadata": {},
   "outputs": [],
   "source": [
    "center_Ox= [-7.99410922, -4.30304224, -0.81620204, 1.77334151, 5.25709837, 8.52320421]\n",
    "center_Ox_err=[0.00179633, 0.00208647, 0.00306473, 0.00307986, 0.00212875, 0.00180354]"
   ]
  },
  {
   "cell_type": "code",
   "execution_count": null,
   "metadata": {},
   "outputs": [],
   "source": [
    "B_Ox=center_Ox[5]-center_Ox[0]\n",
    "delta_Ox=(center_Ox[0]+center_Ox[1]+center_Ox[4]+center_Ox[5])/4\n",
    "epsilon_Ox=(center_Ox[0]+center_Ox[5]-center_Ox[1]-center_Ox[4])/4\n",
    "Delta_Ox=2*epsilon_Ox\n",
    "a_Ox=(center_Ox[4]-center_Ox[1])/(2*B_Ox)\n",
    "b_Ox=(center_Ox[3]-center_Ox[2])/(2*B_Ox)\n",
    "\n",
    "print('Campo Hiperfino Oxido: ', B_Ox, '[mm/s]')\n",
    "print('Corrimiento isomeerico' , delta_Ox, '[mm/s]')\n",
    "print('Epsilon' , epsilon_Ox, '[mm/s]')\n",
    "print('Delta' , Delta_Ox, '[mm/s]')\n",
    "print('a' , a_Ox, '[Ad]')\n",
    "print('b' , b_Ox, '[Ad]')"
   ]
  },
  {
   "cell_type": "markdown",
   "metadata": {},
   "source": [
    "## Espectro Mag"
   ]
  },
  {
   "cell_type": "markdown",
   "metadata": {},
   "source": [
    "### Mag Canales"
   ]
  },
  {
   "cell_type": "code",
   "execution_count": null,
   "metadata": {},
   "outputs": [],
   "source": [
    "velo = Canales_P # Energy or frequency axis\n",
    "signal = Esp_P_Mag_norm # Intensity or counts\n",
    "\n",
    "# Define the model: constant background + Lorentzian peaks\n",
    "model = ConstantModel() + LorentzianModel(prefix='p1_') + LorentzianModel(prefix='p2_') + LorentzianModel(prefix='p3_') + LorentzianModel(prefix='p4_') + LorentzianModel(prefix='p5_') + LorentzianModel(prefix='p6_') + LorentzianModel(prefix='p7_') + LorentzianModel(prefix='p8_') + LorentzianModel(prefix='p9_') + LorentzianModel(prefix='p10_') \n",
    "\n",
    "# Set initial paerametrs for the model\n",
    "params = model.make_params(c=1, # Background constant\n",
    "                           p1_center=280, p1_sigma=10, p1_amplitude=-10000, # Peak 1\n",
    "                           p2_center=305, p2_sigma=10, p2_amplitude=-10000, # Peak 2\n",
    "                           p3_center=380, p3_sigma=10, p3_amplitude=-10000, # Peak 3\n",
    "                           p4_center=400, p4_sigma=10, p4_amplitude=-10000, # Peak 4\n",
    "                           p5_center=475, p5_sigma=10, p5_amplitude=-10000, # Peak 5\n",
    "                           p6_center=490, p6_sigma=10, p6_amplitude=-10000, # Peak 6\n",
    "                           p7_center=550, p7_sigma=10, p7_amplitude=-10000, # Peak 7\n",
    "                           p8_center=560, p8_sigma=10, p8_amplitude=-10000, # Peak 8\n",
    "                           p9_center=650, p9_sigma=10, p9_amplitude=-10000, # Peak 9\n",
    "                           p10_center=740, p10_sigma=10, p10_amplitude=-10000) # Peak 10\n",
    "\n",
    "# Fit the model to the data\n",
    "out = model.fit(signal, params, x=velo)\n",
    "\n",
    "# Print the fit report\n",
    "print(out.fit_report())\n",
    "\n",
    "# Plot the data and the best fit\n",
    "plt.plot(velo, signal, 'o', label='data', color='firebrick')\n",
    "plt.plot(velo, out.best_fit, label='fit', color='Navy')\n",
    "plt.title('Espectograma Mossbauer - Mag')\n",
    "plt.xlabel('Canales')\n",
    "plt.ylabel('Cuentas')\n",
    "plt.legend()\n",
    "\n",
    "plt.savefig('Mossbauer-Mag-Canales.jpg', format='jpg', dpi=1000, bbox_inches='tight')\n",
    "\n",
    "plt.close()"
   ]
  },
  {
   "cell_type": "code",
   "execution_count": null,
   "metadata": {},
   "outputs": [],
   "source": [
    "picos_Mag=np.array([285.280184 ,311.368597 ,381.695530 ,401.393523 ,478.209392 ,491.512110 ,550.915996 ,559.503618 ,648.675212 ,741.290168])\n",
    "err_picos_Mag=np.array([0.04940912,0.04908872,0.06754661,0.04596920,0.15649587,0.09847705,0.20367163,0.12923891,0.03469349,0.02559156])\n",
    "gammas_amps=[3.71135858,5.63721025,3.73751396,4.14555993,3.94680906,4.23503274, 0.37669898,0.71192466,0.27999969,0.48130651,0.13968512,0.24866586,285.280184,311.368597,381.695530,401.393523,478.209392,491.512110,550.915996,559.503618,648.675212,648.675212,741.290168,741.290168]\n",
    "\n",
    "pop_mags_comp, cov_mags_comp= curve_fit(suma_Lorenzianas, Canales_P, Esp_P_Mag_norm, p0=gammas_amps)\n",
    "\n",
    "p1=pop_mags_comp[0:3]\n",
    "c1=pop_mags_comp[6:9]\n",
    "p2=pop_mags_comp[3:6]\n",
    "c2=pop_mags_comp[9:12]\n",
    "\n",
    "centros_1=[pop_mags_comp[12],pop_mags_comp[14],pop_mags_comp[16],pop_mags_comp[18],pop_mags_comp[21],pop_mags_comp[23]]\n",
    "centros_2=[pop_mags_comp[13],pop_mags_comp[15],pop_mags_comp[17],pop_mags_comp[19],pop_mags_comp[20],pop_mags_comp[22]]\n",
    "\n",
    "pop_1= np.concatenate((p1, c1, centros_1), axis=None)\n",
    "pop_2= np.concatenate((p2, c2, centros_2), axis=None)\n",
    "\n",
    "plt.figure(figsize=(12,8))\n",
    "\n",
    "plt.errorbar(Canales_P, Esp_P_Mag_norm, fmt='o', color='navy', markersize=2)\n",
    "plt.plot(Canales_P, suma_Lorenzianas(Canales_P, *pop_mags_comp), color='blue')\n",
    "plt.plot(Canales_P, Fe_3(Canales_P, *pop_1), color='red',linewidth=2.5)\n",
    "plt.plot(Canales_P, Fe_2(Canales_P, *pop_2), color='green',linewidth=2.5)\n",
    "plt.xlabel('Canales', fontsize=26)\n",
    "plt.ylabel('Cuentas Normalizadas [Au]', fontsize=26)\n",
    "plt.grid()\n",
    "plt.legend(fontsize=18)\n",
    "plt.xticks(fontsize=26)\n",
    "plt.yticks(fontsize=26)\n",
    "\n",
    "plt.savefig('Lorentzianas.jpg', format='jpg', dpi=1000, bbox_inches='tight')\n",
    "\n",
    "plt.close()"
   ]
  },
  {
   "cell_type": "markdown",
   "metadata": {},
   "source": [
    "### Mag velocidades"
   ]
  },
  {
   "cell_type": "code",
   "execution_count": null,
   "metadata": {},
   "outputs": [],
   "source": [
    "velo = Vel_cal # Energy or frequency axis\n",
    "signal = Esp_P_Mag_norm # Intensity or counts\n",
    "\n",
    "# Define the model: constant background + Lorentzian peaks\n",
    "model = ConstantModel() + LorentzianModel(prefix='p1_') + LorentzianModel(prefix='p2_') + LorentzianModel(prefix='p3_') + LorentzianModel(prefix='p4_') + LorentzianModel(prefix='p5_') + LorentzianModel(prefix='p6_') + LorentzianModel(prefix='p7_') + LorentzianModel(prefix='p8_') + LorentzianModel(prefix='p9_') + LorentzianModel(prefix='p10_') \n",
    "\n",
    "# Set initial paerametrs for the model\n",
    "params = model.make_params(c=1, # Background constant\n",
    "                           p1_center=-7.64356977, p1_sigma=0.16765001, p1_amplitude=-0.01304928, # Peak 1\n",
    "                           p2_center=-6.75251595, p2_sigma=0.16765001, p2_amplitude=-0.02465114, # Peak 2\n",
    "                           p3_center=-4.30721053, p3_sigma=0.16765001, p3_amplitude=-0.00969554, # Peak 3\n",
    "                           p4_center=-3.62978348, p4_sigma=0.14891366, p4_amplitude=-0.01573258, # Peak 4\n",
    "                           p5_center=-0.97062302, p5_sigma=0.13632109, p5_amplitude=-0.00484151, # Peak 5\n",
    "                           p6_center=-0.51184352, p6_sigma=0.16765001, p6_amplitude=-0.00836905, # Peak 6\n",
    "                           p7_center=1.75251595, p7_sigma=0.16765001, p7_amplitude=-0.01573258, # Peak 7\n",
    "                           p8_center=1.97062302, p8_sigma=0.16765001, p8_amplitude=-1.42914347, # Peak 8\n",
    "                           p9_center=4.92419343, p9_sigma=0.15680988, p9_amplitude=-0.02535222, # Peak 9\n",
    "                           p10_center=8.12775672, p10_sigma=0.29600953, p10_amplitude=-1.29763023) # Peak 10\n",
    "\n",
    "# Fit the model to the data\n",
    "out = model.fit(signal, params, x=velo)\n",
    "\n",
    "# Print the fit report\n",
    "print(out.fit_report())\n",
    "\n",
    "# Plot the data and the best fit\n",
    "plt.plot(velo, signal, 'o', label='data', color='firebrick')\n",
    "plt.plot(velo, out.best_fit, label='fit', color='Navy')\n",
    "plt.title('Espectograma Mossbauer - Mag')\n",
    "plt.xlabel('Canales')\n",
    "plt.ylabel('Cuentas')\n",
    "plt.legend()\n",
    "\n",
    "plt.savefig('Mossbauer-Mag-Vel.jpg', format='jpg', dpi=1000, bbox_inches='tight')\n",
    "\n",
    "plt.close()"
   ]
  },
  {
   "cell_type": "code",
   "execution_count": null,
   "metadata": {},
   "outputs": [],
   "source": [
    "Vel_Mag=np.array([-7.64444356,-6.74211100,-4.30967793,-3.62837324,-0.97150678,-0.51139611,1.54323329,1.84025637,4.92447855,8.12779940])"
   ]
  },
  {
   "cell_type": "code",
   "execution_count": null,
   "metadata": {},
   "outputs": [],
   "source": [
    "gammas_amps_vel=[0.12836666,0.12927112,0.13650947,0.19497668,0.14338466,0.14647997,-0.01302908,-0.00968448,-0.00483133,-0.02462367,-0.01664720,-0.00860078]\n",
    "gammas_amps_vel_comp=[0.14353724,0.16974948,0.25157957,0.20859831,0.16952772,0.15141781,0.01434848,0.011111,0.00836135,0.02641949,0.01817241,-0.00860078,-7.64444356,-6.74211100,-4.30967793,-3.62837324,-0.97150678,-0.51139611,1.54323329,1.84025637,4.92447855,4.92447855,8.12779940,8.12779940]\n",
    "\n",
    "pop_mags_comp_vel, cov_mags_comp= curve_fit(suma_Lorenzianas, Vel_cal, Esp_P_Mag_norm, p0=gammas_amps_vel_comp)\n",
    "\n",
    "p1_vel=pop_mags_comp_vel[0:3]\n",
    "c1_vel=pop_mags_comp_vel[6:9]\n",
    "p2_vel=pop_mags_comp_vel[3:6]\n",
    "c2_vel=pop_mags_comp_vel[9:12]\n",
    "\n",
    "centros_1_vel=[pop_mags_comp_vel[12],pop_mags_comp_vel[14],pop_mags_comp_vel[16],pop_mags_comp_vel[18],pop_mags_comp_vel[21],pop_mags_comp_vel[23]]\n",
    "centros_2_vel=[pop_mags_comp_vel[13],pop_mags_comp_vel[15],pop_mags_comp_vel[17],pop_mags_comp_vel[19],pop_mags_comp_vel[20],pop_mags_comp_vel[22]]\n",
    "\n",
    "pop_1_vel= np.concatenate((p1_vel, c1_vel, centros_1_vel), axis=None)\n",
    "pop_2_vel= np.concatenate((p2_vel, c2_vel, centros_2_vel), axis=None)\n",
    "\n",
    "plt.figure(figsize=(12,8))\n",
    "\n",
    "plt.errorbar(Vel_cal, Esp_P_Mag_norm, fmt='o', color='navy', markersize=2)\n",
    "plt.plot(Vel_cal, suma_Lorenzianas(Vel_cal, *pop_mags_comp_vel), color='blue')\n",
    "plt.plot(Vel_cal, Fe_3(Vel_cal, *pop_1_vel), color='red',linewidth=2.5)\n",
    "plt.plot(Vel_cal, Fe_2(Vel_cal, *pop_2_vel), color='green',linewidth=2.5)\n",
    "plt.xlabel('Velocidad [mm/s]')\n",
    "plt.ylabel('Cuentas Normalizadas [Au]')\n",
    "plt.grid()\n",
    "plt.legend(fontsize=18)\n",
    "plt.xticks(fontsize=26)\n",
    "plt.yticks(fontsize=26)\n",
    "\n",
    "plt.savefig('Lorentzianas_vel.jpg', format='jpg', dpi=1000, bbox_inches='tight')\n",
    "\n",
    "plt.close()"
   ]
  },
  {
   "cell_type": "code",
   "execution_count": 172,
   "metadata": {},
   "outputs": [],
   "source": [
    "def Suma_Riemann(dt_x, dt_y, lim_inf, lim_sup):\n",
    "    \n",
    "    dif=lim_sup-lim_inf\n",
    "    rango=range(1,dif)\n",
    "\n",
    "    suma_inf=0\n",
    "\n",
    "    for i in rango:\n",
    "\n",
    "        Delta_x=dt_x[lim_inf+1]-dt_x[lim_inf]\n",
    "\n",
    "        suma_inf+= dt_y[i]*Delta_x\n",
    "\n",
    "    return suma_inf"
   ]
  },
  {
   "cell_type": "code",
   "execution_count": 171,
   "metadata": {},
   "outputs": [
    {
     "data": {
      "text/plain": [
       "250"
      ]
     },
     "execution_count": 171,
     "metadata": {},
     "output_type": "execute_result"
    }
   ],
   "source": [
    "Dt_y_1=-Fe_3(Vel_cal[240:780], *pop_1_vel)+1\n",
    "len(Dt_y_1)\n",
    "\n",
    "rango=range(250,780)\n",
    "\n",
    "rango[0]"
   ]
  },
  {
   "cell_type": "code",
   "execution_count": 194,
   "metadata": {},
   "outputs": [
    {
     "name": "stdout",
     "output_type": "stream",
     "text": [
      "relacion= 0.6014956947806733\n"
     ]
    }
   ],
   "source": [
    "Dt_y_Fe3=-Fe_3(Vel_cal[0:1020], *pop_1_vel)+1\n",
    "Dt_y_Fe2=-Fe_2(Vel_cal[0:1020], *pop_2_vel)+1\n",
    "\n",
    "intFe3=Suma_Riemann(Vel_cal, Dt_y_Fe3, 0,1020)\n",
    "intFe2=Suma_Riemann(Vel_cal, Dt_y_Fe2, 0,1020)\n",
    "\n",
    "print('relacion=', intFe3/intFe2)"
   ]
  },
  {
   "cell_type": "code",
   "execution_count": 195,
   "metadata": {},
   "outputs": [
    {
     "data": {
      "text/plain": [
       "<BarContainer object of 1020 artists>"
      ]
     },
     "execution_count": 195,
     "metadata": {},
     "output_type": "execute_result"
    },
    {
     "data": {
      "image/png": "[encoded data removed]",
      "text/plain": [
       "<Figure size 640x480 with 1 Axes>"
      ]
     },
     "metadata": {},
     "output_type": "display_data"
    }
   ],
   "source": [
    "plt.errorbar(Vel_cal, -Fe_3(Vel_cal, *pop_1_vel)+1, color='red', fmt='o')\n",
    "plt.bar(Vel_cal,-Fe_3(Vel_cal, *pop_1_vel)+1, width=0.034, color='firebrick') \n",
    "\n",
    "plt.errorbar(Vel_cal, -Fe_2(Vel_cal, *pop_2_vel)+1, color='green', fmt='o')\n",
    "plt.bar(Vel_cal,-Fe_2(Vel_cal, *pop_2_vel)+1, width=0.034, color='olive') "
   ]
  }
 ],
 "metadata": {
  "kernelspec": {
   "display_name": "Python 3",
   "language": "python",
   "name": "python3"
  },
  "language_info": {
   "codemirror_mode": {
    "name": "ipython",
    "version": 3
   },
   "file_extension": ".py",
   "mimetype": "text/x-python",
   "name": "python",
   "nbconvert_exporter": "python",
   "pygments_lexer": "ipython3",
   "version": "3.10.0"
  }
 },
 "nbformat": 4,
 "nbformat_minor": 2
}
